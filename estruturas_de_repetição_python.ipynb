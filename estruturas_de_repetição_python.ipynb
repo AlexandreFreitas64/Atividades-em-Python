{
  "nbformat": 4,
  "nbformat_minor": 0,
  "metadata": {
    "colab": {
      "provenance": [],
      "authorship_tag": "ABX9TyPtI0ggrM7Vy0PRwtgQRQjs",
      "include_colab_link": true
    },
    "kernelspec": {
      "name": "python3",
      "display_name": "Python 3"
    },
    "language_info": {
      "name": "python"
    }
  },
  "cells": [
    {
      "cell_type": "markdown",
      "metadata": {
        "id": "view-in-github",
        "colab_type": "text"
      },
      "source": [
        "<a href=\"https://colab.research.google.com/github/AlexandreFreitas64/Atividades-em-Python/blob/main/estruturas_de_repeti%C3%A7%C3%A3o_python.ipynb\" target=\"_parent\"><img src=\"https://colab.research.google.com/assets/colab-badge.svg\" alt=\"Open In Colab\"/></a>"
      ]
    },
    {
      "cell_type": "code",
      "execution_count": null,
      "metadata": {
        "colab": {
          "base_uri": "https://localhost:8080/"
        },
        "id": "TvDTMBvoWrjQ",
        "outputId": "7057d1f8-a52f-4109-fcd0-6fc01b4b73e3"
      },
      "outputs": [
        {
          "output_type": "stream",
          "name": "stdout",
          "text": [
            "[10, 9, 8, 7, 6, 5, 4, 3, 2, 1, 0, -1, -2]\n"
          ]
        }
      ],
      "source": [
        "list = list(range(10,-3, -1))\n",
        "print(list)"
      ]
    },
    {
      "cell_type": "code",
      "source": [
        "for c in range(10,0,-1):\n",
        "    print(c)\n",
        "print('FIM')\n"
      ],
      "metadata": {
        "colab": {
          "base_uri": "https://localhost:8080/"
        },
        "id": "SgdAUvVyXVfz",
        "outputId": "369b87df-b07f-4931-8b19-74be3cd637e7"
      },
      "execution_count": null,
      "outputs": [
        {
          "output_type": "stream",
          "name": "stdout",
          "text": [
            "10\n",
            "9\n",
            "8\n",
            "7\n",
            "6\n",
            "5\n",
            "4\n",
            "3\n",
            "2\n",
            "1\n",
            "FIM\n"
          ]
        }
      ]
    },
    {
      "cell_type": "code",
      "source": [
        "n = int(input('Digite um numero:'))\n",
        "for c in range(0, n+1):\n",
        "    print(c)\n",
        "print('Fim')"
      ],
      "metadata": {
        "colab": {
          "base_uri": "https://localhost:8080/"
        },
        "id": "BN3pbRn-XX7W",
        "outputId": "916a2352-47c3-404a-9191-e1e142285cbe"
      },
      "execution_count": null,
      "outputs": [
        {
          "output_type": "stream",
          "name": "stdout",
          "text": [
            "Digite um numero:10\n",
            "0\n",
            "1\n",
            "2\n",
            "3\n",
            "4\n",
            "5\n",
            "6\n",
            "7\n",
            "8\n",
            "9\n",
            "10\n",
            "Fim\n"
          ]
        }
      ]
    },
    {
      "cell_type": "code",
      "source": [
        "n = int(input('Digite um número:'))\n",
        "f = int(input('Digite o fim da contagem:'))\n",
        "p = int(input('Digite quanto pularia:'))\n",
        "\n",
        "for c in range(n + p, f, p):\n",
        "    print(c)\n",
        "print('Fim')"
      ],
      "metadata": {
        "colab": {
          "base_uri": "https://localhost:8080/"
        },
        "id": "RCg8kS5vXZh6",
        "outputId": "5536c911-81aa-4ba1-8a01-969ce69a2e8b"
      },
      "execution_count": null,
      "outputs": [
        {
          "output_type": "stream",
          "name": "stdout",
          "text": [
            "Digite um número:10\n",
            "Digite o fim da contagem:1\n",
            "Digite quanto pularia:-1\n",
            "9\n",
            "8\n",
            "7\n",
            "6\n",
            "5\n",
            "4\n",
            "3\n",
            "2\n",
            "Fim\n"
          ]
        }
      ]
    },
    {
      "cell_type": "markdown",
      "source": [
        "  Faça um programa que mostra na tala uma contagem regressiva para o astouro de fogos de artificio, indo de 10 até 0. com uma pausa de 1 segundo antre eles."
      ],
      "metadata": {
        "id": "F_nZAh0eYFdG"
      }
    },
    {
      "cell_type": "code",
      "source": [
        "from datetime import time\n",
        "import time as timer #alterando a nomenclatura de time, pois ele origina outro codigo\n",
        "# timer = time(0,0,1) #hour, minutes, seconds\n",
        "for c in range(10, 0, -1):\n",
        "  print(c)\n",
        "  timer.sleep(1)\n",
        "print('BOOM!')\n"
      ],
      "metadata": {
        "colab": {
          "base_uri": "https://localhost:8080/"
        },
        "id": "uq1eJGYKYNgP",
        "outputId": "b8aa9aec-8025-4073-e3eb-dba8a4f3fa53"
      },
      "execution_count": null,
      "outputs": [
        {
          "output_type": "stream",
          "name": "stdout",
          "text": [
            "10\n",
            "9\n",
            "8\n",
            "7\n",
            "6\n",
            "5\n",
            "4\n",
            "3\n",
            "2\n",
            "1\n",
            "BOOM!\n"
          ]
        }
      ]
    },
    {
      "cell_type": "markdown",
      "source": [
        "Crie um programa que mostra na tala todos os números paras que estão no intervalo entre l a 50."
      ],
      "metadata": {
        "id": "swuLDDE0akz-"
      }
    },
    {
      "cell_type": "code",
      "source": [
        "for c in range(1+1, 51, 2):\n",
        "  print(c)"
      ],
      "metadata": {
        "colab": {
          "base_uri": "https://localhost:8080/"
        },
        "id": "AEJbly4falYM",
        "outputId": "95406c30-3334-4afe-ac90-122b4f6bf84b"
      },
      "execution_count": null,
      "outputs": [
        {
          "output_type": "stream",
          "name": "stdout",
          "text": [
            "2\n",
            "4\n",
            "6\n",
            "8\n",
            "10\n",
            "12\n",
            "14\n",
            "16\n",
            "18\n",
            "20\n",
            "22\n",
            "24\n",
            "26\n",
            "28\n",
            "30\n",
            "32\n",
            "34\n",
            "36\n",
            "38\n",
            "40\n",
            "42\n",
            "44\n",
            "46\n",
            "48\n",
            "50\n"
          ]
        }
      ]
    },
    {
      "cell_type": "markdown",
      "source": [
        "Faça um programa que calcule a soma entre todos os números impares que SÃO múltiplos de três a que se encontram no intervalo de l até 500."
      ],
      "metadata": {
        "id": "O-mL8DdJbJ1h"
      }
    },
    {
      "cell_type": "code",
      "source": [
        "for c in range(1, 500, 2):\n",
        "  n += c\n",
        "print(f'A soma de todos os números impares é de: {n}')"
      ],
      "metadata": {
        "colab": {
          "base_uri": "https://localhost:8080/"
        },
        "id": "vFysbnN5bUcY",
        "outputId": "5489a68d-7619-4c09-cf7a-4254682c456c"
      },
      "execution_count": null,
      "outputs": [
        {
          "output_type": "stream",
          "name": "stdout",
          "text": [
            "A soma de todos os números impares é de: 62510\n"
          ]
        }
      ]
    },
    {
      "cell_type": "markdown",
      "source": [
        "Rafaça o DESAFIO 009. mostrando a tabuada de um número que o usuário escolher, só que agora utilizando um laço for."
      ],
      "metadata": {
        "id": "MSSJIVsLbzJo"
      }
    },
    {
      "cell_type": "code",
      "source": [
        "n = int(input('Digite um número para ser calculado:'))\n",
        "for c in range(0,11):\n",
        "  print(f\"{n} X {c:^3} = {n*c:^3}\")"
      ],
      "metadata": {
        "colab": {
          "base_uri": "https://localhost:8080/"
        },
        "id": "cKrp_Uqfb1EY",
        "outputId": "eca27c3b-fc10-4c4d-eb94-21696b4f20e0"
      },
      "execution_count": null,
      "outputs": [
        {
          "output_type": "stream",
          "name": "stdout",
          "text": [
            "Digite um número para ser calculado:5\n",
            "5 X  0  =  0 \n",
            "5 X  1  =  5 \n",
            "5 X  2  = 10 \n",
            "5 X  3  = 15 \n",
            "5 X  4  = 20 \n",
            "5 X  5  = 25 \n",
            "5 X  6  = 30 \n",
            "5 X  7  = 35 \n",
            "5 X  8  = 40 \n",
            "5 X  9  = 45 \n",
            "5 X 10  = 50 \n"
          ]
        }
      ]
    },
    {
      "cell_type": "code",
      "source": [
        "#n = int(input('Digite um número para ser calculado:'))\n",
        "x = 1\n",
        "for c in range(0,11):\n",
        "  print(f\"{x} X {c:^2} = {x*c:^2}\")"
      ],
      "metadata": {
        "colab": {
          "base_uri": "https://localhost:8080/"
        },
        "id": "xegZwy5x1_Ek",
        "outputId": "bf6ba2e6-df03-43ae-c86f-67a823429cc2"
      },
      "execution_count": null,
      "outputs": [
        {
          "output_type": "stream",
          "name": "stdout",
          "text": [
            "1 X 0  = 0   ||  2 X 0  = 0 \n",
            "1 X 1  = 1   ||  2 X 1  = 1 \n",
            "1 X 2  = 2   ||  2 X 2  = 2 \n",
            "1 X 3  = 3   ||  2 X 3  = 3 \n",
            "1 X 4  = 4   ||  2 X 4  = 4 \n",
            "1 X 5  = 5   ||  2 X 5  = 5 \n",
            "1 X 6  = 6   ||  2 X 6  = 6 \n",
            "1 X 7  = 7   ||  2 X 7  = 7 \n",
            "1 X 8  = 8   ||  2 X 8  = 8 \n",
            "1 X 9  = 9   ||  2 X 9  = 9 \n",
            "1 X 10 = 10  ||  2 X 10 = 10\n"
          ]
        }
      ]
    },
    {
      "cell_type": "markdown",
      "source": [
        "Desenvolva um programa que leia seis números inteiros a mostre a soma apenas daqueles que forem pares. Se o valor digitado for impar. desconsidere-o.\n"
      ],
      "metadata": {
        "id": "2qNfG0Va2uyF"
      }
    },
    {
      "cell_type": "code",
      "source": [
        "somatotal = 0\n",
        "for c in range(5):\n",
        "  n = int(input(\"Digite um número:\"))\n",
        "  if n % 2 == 0:\n",
        "    somatotal += n\n",
        "  else:\n",
        "    print('Número desconsiderado!\\n')\n",
        "print(f\"\\n A soma total dos números foi de {somatotal}\")"
      ],
      "metadata": {
        "colab": {
          "base_uri": "https://localhost:8080/"
        },
        "id": "rajBT67-25Ot",
        "outputId": "471f105f-a47f-4811-9777-817525d8e0c7"
      },
      "execution_count": null,
      "outputs": [
        {
          "output_type": "stream",
          "name": "stdout",
          "text": [
            "Digite um número:3\n",
            "Número desconsiderado!\n",
            "\n",
            "Digite um número:4\n",
            "Digite um número:5\n",
            "Número desconsiderado!\n",
            "\n",
            "Digite um número:2\n",
            "Digite um número:6\n",
            "\n",
            " A soma total dos números foi de 12\n"
          ]
        }
      ]
    },
    {
      "cell_type": "markdown",
      "source": [
        "Desenvolva um programa que leia o primeiro termo a a razão de uma PA. No final, mostre os 10 primeiros termos dessa progressão."
      ],
      "metadata": {
        "id": "5Utw09fr4tNU"
      }
    },
    {
      "cell_type": "code",
      "source": [
        "n = int(input('Digite o Número que irá começar:'))\n",
        "p = int(input('Digite a Razão da Progressão Aritimética:'))\n",
        "f = n + (10) * p\n",
        "for c in range(n, f, p):\n",
        "  print(f'{c}', end= ' → ')\n",
        "print('ACABOU')"
      ],
      "metadata": {
        "colab": {
          "base_uri": "https://localhost:8080/"
        },
        "id": "uSP9ds2P4uDo",
        "outputId": "10d08ae5-64a3-4360-e587-33f1a8b7ac74"
      },
      "execution_count": null,
      "outputs": [
        {
          "output_type": "stream",
          "name": "stdout",
          "text": [
            "Digite o Número que irá começar:1\n",
            "Digite a Razão da Progressão Aritimética:5\n",
            "1 → 6 → 11 → 16 → 21 → 26 → 31 → 36 → 41 → 46 → ACABOU\n"
          ]
        }
      ]
    },
    {
      "cell_type": "markdown",
      "source": [
        "Faça um programa que leia um número inteiro a diga se ela é OU NÃO UM número primo."
      ],
      "metadata": {
        "id": "TO7PzgiG5C5v"
      }
    },
    {
      "cell_type": "code",
      "source": [
        "num = int(input('Digite um número:'))\n",
        "tot = 0\n",
        "for c in range(1, num + 1):\n",
        "  if num % c == 0:\n",
        "    print('\\033[33m', end = ' ')\n",
        "    tot += 1\n",
        "  else:\n",
        "    print('\\033[31m', end = ' ')\n",
        "  print(f'{c}', end = ' ')\n",
        "print(f'\\n\\033[mO número {num} foi divisível {tot} vezes!') #Cores não funcionam no GColabs \\033[m\n",
        "if tot == 2:\n",
        "  print('Por isso ele é primo!')\n",
        "else:\n",
        "  print('Por isso ele não é primo!')\n"
      ],
      "metadata": {
        "colab": {
          "base_uri": "https://localhost:8080/"
        },
        "id": "u2ftwPr45Dik",
        "outputId": "79b30465-1b27-4763-f3b1-772f44f5be93"
      },
      "execution_count": null,
      "outputs": [
        {
          "output_type": "stream",
          "name": "stdout",
          "text": [
            "Digite um número:5\n",
            "\u001b[33m 1 \u001b[31m 2 \u001b[31m 3 \u001b[31m 4 \u001b[33m 5 \n",
            "\u001b[mO número 5 foi divisível 2 vezes!\n",
            "Por isso ele é primo!\n"
          ]
        }
      ]
    },
    {
      "cell_type": "markdown",
      "source": [
        "Cria um programa que leia uma frase qualquer a diga sa ala é um palindromo. desconsiderando os espaços."
      ],
      "metadata": {
        "id": "7OjIgtkx5EHb"
      }
    },
    {
      "cell_type": "code",
      "source": [],
      "metadata": {
        "id": "ZvOf41gW5LFu"
      },
      "execution_count": null,
      "outputs": []
    },
    {
      "cell_type": "markdown",
      "source": [
        "Cria um programa que leia o ano de nascimento de sete pessoas. No final. mostra quantas pessoas ainda não atingiram a maioridada a quantas já SÃO maiores."
      ],
      "metadata": {
        "id": "KgkUYrQ05f_e"
      }
    },
    {
      "cell_type": "code",
      "source": [
        "from datetime import datetime\n",
        "now = datetime.now()\n",
        "anoatual = now.year\n",
        "\n",
        "maioridade, menores = 0, 0\n",
        "\n",
        "for c in range(6):\n",
        "  ano = int(input(\"Digite o seu Ano de Nascimento:\"))\n",
        "  idade = anoatual - ano\n",
        "  print(idade)\n",
        "  if idade >= 18:\n",
        "    maioridade += 1\n",
        "  else:\n",
        "    menores += 1\n",
        "print(f'{maioridade} atingiram a maioridade e {menores} ainda são menores')"
      ],
      "metadata": {
        "colab": {
          "base_uri": "https://localhost:8080/"
        },
        "id": "XGKdXY405j0_",
        "outputId": "779c25a0-08d9-4a88-b4ff-7681f963de2f"
      },
      "execution_count": null,
      "outputs": [
        {
          "output_type": "stream",
          "name": "stdout",
          "text": [
            "Digite o seu Ano de Nascimento:2007\n",
            "18\n",
            "Digite o seu Ano de Nascimento:2006\n",
            "19\n",
            "Digite o seu Ano de Nascimento:2008\n",
            "17\n",
            "Digite o seu Ano de Nascimento:2015\n",
            "10\n",
            "Digite o seu Ano de Nascimento:1998\n",
            "27\n",
            "Digite o seu Ano de Nascimento:1999\n",
            "26\n",
            "4 atingiram a maioridade e 2 ainda são menores\n"
          ]
        }
      ]
    },
    {
      "cell_type": "markdown",
      "source": [
        "Faça um programa que leia o peso de cinco pessoas. No final, mostra qual foi o maior a o menor peso lidos."
      ],
      "metadata": {
        "id": "JCbHAWCz9iBf"
      }
    },
    {
      "cell_type": "code",
      "source": [
        "maior = 0\n",
        "menor = 0\n",
        "for p in range(1,6):\n",
        "  peso = float(input(\"Digite seu Peso:\"))\n",
        "  if p == 1:\n",
        "    maior = peso\n",
        "    menor = peso\n",
        "  elif peso > maior:\n",
        "    maior = peso\n",
        "  elif peso < menor:\n",
        "    menor = peso\n",
        "\n",
        "print(f\"O maior peso foi: {maior} \\nO menor peso foi: {menor}\")"
      ],
      "metadata": {
        "id": "GwZcq1wJ9mcz",
        "colab": {
          "base_uri": "https://localhost:8080/"
        },
        "outputId": "d80266ad-3be3-4728-f0b0-fac43f4d560a"
      },
      "execution_count": null,
      "outputs": [
        {
          "output_type": "stream",
          "name": "stdout",
          "text": [
            "Digite seu Peso:20\n",
            "Digite seu Peso:10\n",
            "Digite seu Peso:80\n",
            "Digite seu Peso:46\n",
            "Digite seu Peso:90\n",
            "O maior peso foi: 90.0 \n",
            "Omenor peso foi: 10.0\n"
          ]
        }
      ]
    },
    {
      "cell_type": "markdown",
      "source": [
        "Desenvolva um programa que leia o **nome, idade e sexo** de 4 pessoas. No final do programa, mostre:\n",
        "\n",
        "A média da idade do grupo.\n",
        "\n",
        "Qual é o nome do homem mais velho.\n",
        "\n",
        "Quantas mulheres tëm menos de 20 anos."
      ],
      "metadata": {
        "id": "yXbromaG9wST"
      }
    },
    {
      "cell_type": "code",
      "source": [
        "somaidade = 0\n",
        "media = 0\n",
        "maioridadehomem = 0\n",
        "nomevelho = \" \"\n",
        "mulheresnovas = 0\n",
        "\n",
        "for p in range(1,5):\n",
        "  print(f\"----------- {p}° Pessoa ----------\")\n",
        "  nome = str(input(\"Digite seu nome:\")).strip()\n",
        "  idade = int(input(\"Digite sua idade:\"))\n",
        "  sexo = str(input(\"Digite seu Sexo [M/F]:\")).strip()\n",
        "\n",
        "  if p == 1 and sexo in \"mM\":\n",
        "    maioridadehomem = idade\n",
        "    nomevelho = nome\n",
        "\n",
        "  somaidade += idade\n",
        "\n",
        "  media = somaidade / 4\n",
        "\n",
        "  if sexo in \"mM\" and idade > maioridadehomem:\n",
        "    maioridadehomem = idade\n",
        "    nomevelho = nome\n",
        "\n",
        "  if sexo in \"fF\" and idade < 20:\n",
        "    mulheresnovas += 1\n",
        "\n",
        "print(f\"A média do grupo é de {media} anos.\")\n",
        "print(\"O Homem mais velho é {} com {} anos.\".format(nomevelho, maioridadehomem))\n",
        "print(f\"A quantidade de mulheres com menos de 20 anos é de {mulheresnovas}.\")"
      ],
      "metadata": {
        "id": "tZ1rn7ws9xV8"
      },
      "execution_count": null,
      "outputs": []
    },
    {
      "cell_type": "markdown",
      "source": [
        "Estrutura de repetição while"
      ],
      "metadata": {
        "id": "IK4ltfdIpZBT"
      }
    },
    {
      "cell_type": "markdown",
      "source": [
        "Faça um programa que laia o sexo de uma pessoa, mas só aceite os valores 'M'ou\n",
        "'F'. Caso astaja arrado. pasa a digitação novamante até ter um valor corrato."
      ],
      "metadata": {
        "id": "fBnSocZ1AIAV"
      }
    },
    {
      "cell_type": "code",
      "source": [
        "while:\n",
        "  sexo = str(input(\"Digite seu Sexo: [M/F]: \"))\n",
        "  if sexo in \"mfMF\":\n"
      ],
      "metadata": {
        "id": "8apppDZvJYLs"
      },
      "execution_count": null,
      "outputs": []
    }
  ]
}