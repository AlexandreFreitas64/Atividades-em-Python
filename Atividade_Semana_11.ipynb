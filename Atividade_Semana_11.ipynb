{
  "nbformat": 4,
  "nbformat_minor": 0,
  "metadata": {
    "colab": {
      "provenance": [],
      "authorship_tag": "ABX9TyPoKI+bByK4LxZ0oFth8su9",
      "include_colab_link": true
    },
    "kernelspec": {
      "name": "python3",
      "display_name": "Python 3"
    },
    "language_info": {
      "name": "python"
    }
  },
  "cells": [
    {
      "cell_type": "markdown",
      "metadata": {
        "id": "view-in-github",
        "colab_type": "text"
      },
      "source": [
        "<a href=\"https://colab.research.google.com/github/AlexandreFreitas64/Atividades-em-Python/blob/main/Atividade_Semana_11.ipynb\" target=\"_parent\"><img src=\"https://colab.research.google.com/assets/colab-badge.svg\" alt=\"Open In Colab\"/></a>"
      ]
    },
    {
      "cell_type": "markdown",
      "source": [
        "# Criar uma função que recebe 3 notas e retorna a média"
      ],
      "metadata": {
        "id": "vQ3uw0ZU_Wg9"
      }
    },
    {
      "cell_type": "code",
      "source": [
        "def media(a, b, c):\n",
        "  return (a + b + c) / 3\n",
        "\n",
        "media(10,20,30)"
      ],
      "metadata": {
        "colab": {
          "base_uri": "https://localhost:8080/",
          "height": 0
        },
        "id": "462SHSGw_osB",
        "outputId": "01b6c9a6-3ed3-435f-a38e-374d80ba742e"
      },
      "execution_count": 1,
      "outputs": [
        {
          "output_type": "execute_result",
          "data": {
            "text/plain": [
              "20.0"
            ]
          },
          "metadata": {},
          "execution_count": 1
        }
      ]
    },
    {
      "cell_type": "markdown",
      "source": [
        "# Criar uma função que recebe um número e retorna se é par ou ímpar."
      ],
      "metadata": {
        "id": "ryClAVeU_aEJ"
      }
    },
    {
      "cell_type": "code",
      "source": [
        "def parimpar(a):\n",
        "  if a % 2 == 0:\n",
        "    return \"Par\"\n",
        "  else:\n",
        "    return \"Impar\"\n",
        "\n",
        "parimpar(24)"
      ],
      "metadata": {
        "colab": {
          "base_uri": "https://localhost:8080/",
          "height": 36
        },
        "id": "DjxEg1ak_lxC",
        "outputId": "b00e90e5-e7ca-49d7-c0bf-3f4e85bbea66"
      },
      "execution_count": 2,
      "outputs": [
        {
          "output_type": "execute_result",
          "data": {
            "text/plain": [
              "'Par'"
            ],
            "application/vnd.google.colaboratory.intrinsic+json": {
              "type": "string"
            }
          },
          "metadata": {},
          "execution_count": 2
        }
      ]
    },
    {
      "cell_type": "markdown",
      "source": [
        "# Criar uma função que recebe um texto e retorna o número de vogais."
      ],
      "metadata": {
        "id": "ohTmabOl_dLm"
      }
    },
    {
      "cell_type": "code",
      "source": [
        "from collections import Counter\n",
        "def vogais(texto: str):\n",
        "  lista = []\n",
        "  vogais = \"aeiouAEIOU\"\n",
        "  for i in texto:\n",
        "    if i in vogais:\n",
        "      lista.append(i)\n",
        "  return Counter(lista)\n",
        "\n",
        "vogais(\"abacaxi azul\")\n",
        ""
      ],
      "metadata": {
        "colab": {
          "base_uri": "https://localhost:8080/",
          "height": 0
        },
        "id": "QtOougVe_ljB",
        "outputId": "a383205a-4a19-4c0f-fc90-dd847a27019a"
      },
      "execution_count": 7,
      "outputs": [
        {
          "output_type": "execute_result",
          "data": {
            "text/plain": [
              "Counter({'a': 4, 'i': 1, 'u': 1})"
            ]
          },
          "metadata": {},
          "execution_count": 7
        }
      ]
    },
    {
      "cell_type": "markdown",
      "source": [
        "# Criar uma função que recebe uma lista de números e retorna o maior valor."
      ],
      "metadata": {
        "id": "O15KOWpW_hFv"
      }
    },
    {
      "cell_type": "code",
      "source": [
        "def maior_valor(lista: list):\n",
        "  return max(lista)\n",
        "\n",
        "maior_valor([1, 2, 3, 4, 5, 6, 7, 20, 5])"
      ],
      "metadata": {
        "colab": {
          "base_uri": "https://localhost:8080/",
          "height": 0
        },
        "id": "o_aH_73S_lWP",
        "outputId": "2efb19d8-d2ce-4515-821b-95165421f8a1"
      },
      "execution_count": 10,
      "outputs": [
        {
          "output_type": "execute_result",
          "data": {
            "text/plain": [
              "20"
            ]
          },
          "metadata": {},
          "execution_count": 10
        }
      ]
    },
    {
      "cell_type": "markdown",
      "source": [
        "# Criar uma função que calcula se o CPF é valido ou não e retorna"
      ],
      "metadata": {
        "id": "3I-9i1Gx_jkX"
      }
    },
    {
      "cell_type": "code",
      "execution_count": 1,
      "metadata": {
        "colab": {
          "base_uri": "https://localhost:8080/",
          "height": 53
        },
        "id": "eGFjbNGY_PSR",
        "outputId": "608be279-fc3c-4332-d4c7-d2028f35d086"
      },
      "outputs": [
        {
          "name": "stdout",
          "output_type": "stream",
          "text": [
            "Digite seu CPF: 10145097851\n"
          ]
        },
        {
          "output_type": "execute_result",
          "data": {
            "text/plain": [
              "'CPF Invalido!'"
            ],
            "application/vnd.google.colaboratory.intrinsic+json": {
              "type": "string"
            }
          },
          "metadata": {},
          "execution_count": 1
        }
      ],
      "source": [
        "def Valida_cpf(cpf: str):\n",
        "  # Limpa qualquer caractere deixando sem letras ou elementos\n",
        "  cpf = ''.join(filter(str.isdigit, cpf))\n",
        "\n",
        "  if len(cpf) != 11:\n",
        "    return \"CPF Invalido!\"\n",
        "  else:\n",
        "    cpf = list(map(int, cpf))\n",
        "    cpf_validado = cpf[:9]\n",
        "\n",
        "    # Digito 1\n",
        "    soma = 0\n",
        "    for indice, num in enumerate(cpf_validado):\n",
        "      soma += num * (10 - indice)\n",
        "    if soma % 11 < 2:\n",
        "      cpf_validado.append(0)\n",
        "    else:\n",
        "      cpf_validado.append(11 - (soma % 11))\n",
        "\n",
        "\n",
        "    # Digito 2\n",
        "    soma = 0\n",
        "    for indice, num in enumerate(cpf_validado):\n",
        "      soma += num * (11 - indice)\n",
        "    if soma % 11 < 2:\n",
        "      cpf_validado.append(0)\n",
        "    else:\n",
        "      cpf_validado.append(11 - (soma % 11))\n",
        "\n",
        "\n",
        "    if cpf_validado == cpf:\n",
        "      return \"CPF Valido\"\n",
        "    else:\n",
        "      return \"CPF Invalido!\"\n",
        "\n",
        "\n",
        "\n",
        "Valida_cpf(input(\"Digite seu CPF: \"))\n"
      ]
    }
  ]
}