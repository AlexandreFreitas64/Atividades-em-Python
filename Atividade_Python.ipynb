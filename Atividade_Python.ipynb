{
  "nbformat": 4,
  "nbformat_minor": 0,
  "metadata": {
    "colab": {
      "provenance": [],
      "authorship_tag": "ABX9TyOEc333MBPnEOiyHODaN9wl",
      "include_colab_link": true
    },
    "kernelspec": {
      "name": "python3",
      "display_name": "Python 3"
    },
    "language_info": {
      "name": "python"
    }
  },
  "cells": [
    {
      "cell_type": "markdown",
      "metadata": {
        "id": "view-in-github",
        "colab_type": "text"
      },
      "source": [
        "<a href=\"https://colab.research.google.com/github/AlexandreFreitas64/Atividades-em-Python/blob/main/Atividade_Python.ipynb\" target=\"_parent\"><img src=\"https://colab.research.google.com/assets/colab-badge.svg\" alt=\"Open In Colab\"/></a>"
      ]
    },
    {
      "cell_type": "markdown",
      "source": [
        "# Parte 1 — Ordenação e Busca"
      ],
      "metadata": {
        "id": "1inZcoJgTMuA"
      }
    },
    {
      "cell_type": "markdown",
      "source": [
        " Leia 5 números inteiros e mostre-os em ordem crescente."
      ],
      "metadata": {
        "id": "kpTO324yQopF"
      }
    },
    {
      "cell_type": "code",
      "execution_count": null,
      "metadata": {
        "colab": {
          "base_uri": "https://localhost:8080/"
        },
        "id": "Wg6l-vsQQiPu",
        "outputId": "99147a11-d807-48be-f217-8f1848d47c10"
      },
      "outputs": [
        {
          "output_type": "stream",
          "name": "stdout",
          "text": [
            "Digite o 1° número: 4\n",
            "Digite o 2° número: 5\n",
            "Digite o 3° número: 8\n",
            "Digite o 4° número: 7\n",
            "Digite o 5° número: 2\n",
            "[2, 4, 5, 7, 8]\n"
          ]
        }
      ],
      "source": [
        "lista = []\n",
        "for i in range(5):\n",
        "  num = int(input(f\"Digite o {i+1}° número: \"))\n",
        "  lista.append(num)\n",
        "lista.sort()\n",
        "print(lista)"
      ]
    },
    {
      "cell_type": "markdown",
      "source": [
        "Leia 10 números e mostre-os em ordem decrescente"
      ],
      "metadata": {
        "id": "YFdUAQBsRbXl"
      }
    },
    {
      "cell_type": "code",
      "source": [
        "lista = []\n",
        "for i in range(10):\n",
        "  num = int(input(f\"Digite o {i+1}° número: \"))\n",
        "  lista.append(num)\n",
        "lista.sort(reverse=True)\n",
        "print(lista)"
      ],
      "metadata": {
        "colab": {
          "base_uri": "https://localhost:8080/"
        },
        "id": "y-5Pekl6RcfC",
        "outputId": "d1df704a-5e0f-4d00-c480-1ca5d915467a"
      },
      "execution_count": null,
      "outputs": [
        {
          "output_type": "stream",
          "name": "stdout",
          "text": [
            "Digite o 1° número: 4\n",
            "Digite o 2° número: 65\n",
            "Digite o 3° número: 8\n",
            "Digite o 4° número: 7\n",
            "Digite o 5° número: 9\n",
            "Digite o 6° número: 45\n",
            "Digite o 7° número: 5\n",
            "Digite o 8° número: 45\n",
            "Digite o 9° número: 4\n",
            "Digite o 10° número: 4\n",
            "[65, 45, 45, 9, 8, 7, 5, 4, 4, 4]\n"
          ]
        }
      ]
    },
    {
      "cell_type": "markdown",
      "source": [
        "  Crie um dicionário com nomes de alunos e suas notas e mostre-os em ordem alfabética.\n"
      ],
      "metadata": {
        "id": "r4LMzf3cSZLf"
      }
    },
    {
      "cell_type": "code",
      "source": [
        "alunos_notas = {}\n",
        "\n",
        "for i in range(3):\n",
        "  aluno = input(f\"Digite o nome do {i+1}° aluno: \")\n",
        "  # aluno = aluno.capitalize()\n",
        "  nota = float(input(f\"Digite a nota do {i+1}° aluno: \"))\n",
        "  alunos_notas[aluno] = nota\n",
        "\n",
        "print(\"\\n--- Alunos em Ordem Alfabética ---\")\n",
        "\n",
        "for aluno in sorted(alunos_notas, key=str.lower):\n",
        "  print(f\"Aluno: {aluno}, Nota: {alunos_notas[aluno]:.1f}\")"
      ],
      "metadata": {
        "colab": {
          "base_uri": "https://localhost:8080/"
        },
        "id": "yNFPje5lSiQl",
        "outputId": "d1da9c7e-a59f-4e34-bab7-365f8ea4beb3"
      },
      "execution_count": null,
      "outputs": [
        {
          "output_type": "stream",
          "name": "stdout",
          "text": [
            "Digite o nome do 1° aluno: Duda\n",
            "Digite a nota do 1° aluno: 4\n",
            "Digite o nome do 2° aluno: Alex\n",
            "Digite a nota do 2° aluno: 8\n",
            "Digite o nome do 3° aluno: bia\n",
            "Digite a nota do 3° aluno: 89\n",
            "\n",
            "--- Alunos em Ordem Alfabética ---\n",
            "Aluno: Alex, Nota: 8.0\n",
            "Aluno: bia, Nota: 89.0\n",
            "Aluno: Duda, Nota: 4.0\n"
          ]
        }
      ]
    },
    {
      "cell_type": "markdown",
      "source": [
        "No mesmo dicionário, mostre os alunos em ordem decrescente de nota."
      ],
      "metadata": {
        "id": "0uEtT8AqS_sg"
      }
    },
    {
      "cell_type": "code",
      "source": [
        "alunos_notas = {}\n",
        "\n",
        "for i in range(3):\n",
        "  aluno = input(f\"Digite o nome do {i+1}° aluno: \")\n",
        "  # aluno = aluno.capitalize()\n",
        "  nota = float(input(f\"Digite a nota do {i+1}° aluno: \"))\n",
        "  alunos_notas[aluno] = nota\n",
        "\n",
        "print(\"\\n--- Alunos em Ordem Alfabética ---\")\n",
        "\n",
        "for aluno in sorted(alunos_notas, key=str.lower, reverse=True):\n",
        "  print(f\"Aluno: {aluno}, Nota: {alunos_notas[aluno]:.1f}\")"
      ],
      "metadata": {
        "colab": {
          "base_uri": "https://localhost:8080/"
        },
        "id": "JMAgrkBeTBDz",
        "outputId": "646a2299-0779-453b-e1c1-1657c546c8de"
      },
      "execution_count": null,
      "outputs": [
        {
          "output_type": "stream",
          "name": "stdout",
          "text": [
            "Digite o nome do 1° aluno: Alex\n",
            "Digite a nota do 1° aluno: 78\n",
            "Digite o nome do 2° aluno: Duda\n",
            "Digite a nota do 2° aluno: 48\n",
            "Digite o nome do 3° aluno: Bia\n",
            "Digite a nota do 3° aluno: 78\n",
            "\n",
            "--- Alunos em Ordem Alfabética ---\n",
            "Aluno: Duda, Nota: 48.0\n",
            "Aluno: Bia, Nota: 78.0\n",
            "Aluno: Alex, Nota: 78.0\n"
          ]
        }
      ]
    },
    {
      "cell_type": "markdown",
      "source": [
        " Dada uma lista de números, leia um valor X e diga se X existe ou não dentro da lista."
      ],
      "metadata": {
        "id": "aT6ne_mxTC7p"
      }
    },
    {
      "cell_type": "code",
      "source": [
        "from genericpath import exists\n",
        "import random\n",
        "\n",
        "lista=[]\n",
        "\n",
        "sizeList = random.randint(1,10)\n",
        "\n",
        "for i in range(sizeList):\n",
        "  lista.append(random.randint(0,100))\n",
        "\n",
        "print(f\"Lista com {sizeList} elementos \\nLista: {lista} \")\n",
        "\n",
        "numero = int(input(\"Digite um número: \"))\n",
        "\n",
        "if numero in lista:\n",
        "  print(f\"O número {numero} existe!\")\n",
        "else:\n",
        "  print(f\"O número {numero} Não existe!\")"
      ],
      "metadata": {
        "colab": {
          "base_uri": "https://localhost:8080/"
        },
        "id": "AOMfNWDkU2tV",
        "outputId": "a8da9215-f2d6-4a6d-922f-0185d9832f7e"
      },
      "execution_count": null,
      "outputs": [
        {
          "output_type": "stream",
          "name": "stdout",
          "text": [
            "Lista com 4 elementos \n",
            "Lista: [32, 97, 38, 7] \n",
            "Digite um número: 47\n",
            "O número 47 Não existe!\n"
          ]
        }
      ]
    },
    {
      "cell_type": "markdown",
      "source": [
        "# Parte 2 — Uso de Listas e Filas (deque)"
      ],
      "metadata": {
        "id": "cOuivlPUU3CD"
      }
    },
    {
      "cell_type": "markdown",
      "source": [
        " Simule uma fila de atendimento:\n",
        " - Adicione 3 pessoas à fila.\n",
        " - Atenda a primeira pessoa (remova com popleft()).\n",
        " - Mostre a fila restante.\n",
        "\n"
      ],
      "metadata": {
        "id": "4eKkTduJU557"
      }
    },
    {
      "cell_type": "code",
      "source": [
        "import random\n",
        "from faker import Faker\n",
        "from collections import deque\n",
        "\n",
        "fake_br = Faker('pt_BR')\n",
        "\n",
        "\n",
        "lista=[]\n",
        "\n",
        "for i in range(3):\n",
        "  nome = fake_br.first_name()\n",
        "  lista.append(nome)\n",
        "  print(lista)\n",
        "\n",
        "lista = deque(lista)\n",
        "\n",
        "for i in range(len(lista)):\n",
        "  print(lista)\n",
        "  lista.popleft()"
      ],
      "metadata": {
        "colab": {
          "base_uri": "https://localhost:8080/"
        },
        "id": "Mmzwu9S-U7eZ",
        "outputId": "af5d2e73-5a75-468c-9230-006371bb7ab4"
      },
      "execution_count": null,
      "outputs": [
        {
          "output_type": "stream",
          "name": "stdout",
          "text": [
            "['Ana Lívia']\n",
            "['Ana Lívia', 'Bárbara']\n",
            "['Ana Lívia', 'Bárbara', 'Thiago']\n",
            "deque(['Ana Lívia', 'Bárbara', 'Thiago'])\n",
            "deque(['Bárbara', 'Thiago'])\n",
            "deque(['Thiago'])\n"
          ]
        }
      ]
    },
    {
      "cell_type": "markdown",
      "source": [
        "Simule uma pilha de livros:\n",
        " - Adicione 3 livros à pilha.\n",
        " - Retire o último livro adicionado (com pop()).\n",
        " - Mostre os livros restantes na pilha.\n"
      ],
      "metadata": {
        "id": "ay2hCgqlU8BL"
      }
    },
    {
      "cell_type": "code",
      "source": [
        "import random\n",
        "from faker import Faker\n",
        "\n",
        "fake_br = Faker('pt_BR')\n",
        "\n",
        "\n",
        "lista=[]\n",
        "\n",
        "for i in range(3):\n",
        "  nome = fake_br.sentence()\n",
        "  lista.append(nome)\n",
        "  print(lista)\n",
        "\n",
        "print(\"-----------------\")\n",
        "\n",
        "for i in range(1):\n",
        "  print(lista)\n",
        "  lista.pop()\n",
        "print(lista)"
      ],
      "metadata": {
        "colab": {
          "base_uri": "https://localhost:8080/"
        },
        "id": "n5siTF6PVKAb",
        "outputId": "4c8d5026-9083-45d2-e438-fb4f0242674a"
      },
      "execution_count": null,
      "outputs": [
        {
          "output_type": "stream",
          "name": "stdout",
          "text": [
            "['Necessitatibus quibusdam harum dolores.']\n",
            "['Necessitatibus quibusdam harum dolores.', 'Quasi recusandae dolorem molestiae.']\n",
            "['Necessitatibus quibusdam harum dolores.', 'Quasi recusandae dolorem molestiae.', 'Ipsam corrupti tempora.']\n",
            "-----------------\n",
            "['Necessitatibus quibusdam harum dolores.', 'Quasi recusandae dolorem molestiae.', 'Ipsam corrupti tempora.']\n",
            "['Necessitatibus quibusdam harum dolores.', 'Quasi recusandae dolorem molestiae.']\n"
          ]
        }
      ]
    },
    {
      "cell_type": "markdown",
      "source": [
        "Crie uma fila de banco com 5 clientes e faça o atendimento de todos, mostrando a ordem\n",
        "em que foram atendidos"
      ],
      "metadata": {
        "id": "LiPQ7D9hVKeK"
      }
    },
    {
      "cell_type": "code",
      "source": [
        "from faker import Faker\n",
        "import random\n",
        "from collections import deque\n",
        "\n",
        "fake_br = Faker('pt_BR')\n",
        "\n",
        "fila = []\n",
        "\n",
        "for i in range(5):\n",
        "  nome = fake_br.first_name()\n",
        "  fila.append(nome)\n",
        "  print(fila)\n",
        "\n",
        "fila = deque(fila)\n",
        "\n",
        "for i in range(len(fila)):\n",
        "  fila.popleft()\n"
      ],
      "metadata": {
        "colab": {
          "base_uri": "https://localhost:8080/"
        },
        "id": "sXvqGmQNVNO5",
        "outputId": "2406f864-dd66-40bb-d854-48e175a16121"
      },
      "execution_count": null,
      "outputs": [
        {
          "output_type": "stream",
          "name": "stdout",
          "text": [
            "['Marina']\n",
            "['Marina', 'João Lucas']\n",
            "['Marina', 'João Lucas', 'Leandro']\n",
            "['Marina', 'João Lucas', 'Leandro', 'Maysa']\n",
            "['Marina', 'João Lucas', 'Leandro', 'Maysa', 'Josué']\n"
          ]
        }
      ]
    },
    {
      "cell_type": "markdown",
      "source": [
        "# Parte 3 — Conversão de Tipos e Entrada/Saída"
      ],
      "metadata": {
        "id": "d014TiY3VPrz"
      }
    },
    {
      "cell_type": "markdown",
      "source": [
        ". Leia dois números em uma mesma linha e mostre a soma deles. (Use map(int,\n",
        "input().split())).\n"
      ],
      "metadata": {
        "id": "L_m7WT6bVS_1"
      }
    },
    {
      "cell_type": "code",
      "source": [
        "num1, num2 = map(int, input(\"Digite dois Numeros ('2 3')\").split())\n",
        "\n",
        "print(f\"A soma dos dois números é: {num1+num2}\")"
      ],
      "metadata": {
        "colab": {
          "base_uri": "https://localhost:8080/"
        },
        "id": "j_HkmumVVQmd",
        "outputId": "ff418052-ff57-47b0-b4c8-d6a72b55657f"
      },
      "execution_count": null,
      "outputs": [
        {
          "output_type": "stream",
          "name": "stdout",
          "text": [
            "Digite dois Numeros ('2 3')2 3\n",
            "A soma dos dois números é: 5\n"
          ]
        }
      ]
    },
    {
      "cell_type": "markdown",
      "source": [
        ". Leia uma string com vários números separados por espaço e transforme em uma lista de\n",
        "inteiros.\n"
      ],
      "metadata": {
        "id": "q_Z6BmpZVVpx"
      }
    },
    {
      "cell_type": "code",
      "source": [
        "numeros = list(map(int, input(\"Digite numeros ex.:(2 3 4 5 ...): \").split()))\n",
        "print(f\"-----------------\\nA lista de numeros é: {numeros}\")"
      ],
      "metadata": {
        "colab": {
          "base_uri": "https://localhost:8080/"
        },
        "id": "6o8-LtzjVWdV",
        "outputId": "3d75ba44-1a64-4da1-b707-f90a7928a551"
      },
      "execution_count": null,
      "outputs": [
        {
          "output_type": "stream",
          "name": "stdout",
          "text": [
            "Digite numeros ex.:(2 3 4 5 ...): 4 8 7 9 4 5 8 7 \n",
            "-----------------\n",
            "A lista de numeros é: [4, 8, 7, 9, 4, 5, 8, 7]\n"
          ]
        }
      ]
    },
    {
      "cell_type": "markdown",
      "source": [
        ". Leia uma lista de números e mostre apenas os números únicos (sem repetição), usando\n",
        "set()"
      ],
      "metadata": {
        "id": "R1hCKyglVXqS"
      }
    },
    {
      "cell_type": "code",
      "source": [
        "In = input(\"Digite uma sequencia de numeros: \")\n",
        "numeros = [int(n) for n in In.split()]\n",
        "print(numeros)\n",
        "\n",
        "numerosUnicos = set(numeros)\n",
        "print(numerosUnicos)\n",
        "\n",
        "listaNumeros = list(numerosUnicos)\n",
        "print(listaNumeros)"
      ],
      "metadata": {
        "colab": {
          "base_uri": "https://localhost:8080/"
        },
        "id": "nE8mfrKkVYsq",
        "outputId": "2e36fa70-68f8-4d57-c15b-fd893e3279be"
      },
      "execution_count": null,
      "outputs": [
        {
          "output_type": "stream",
          "name": "stdout",
          "text": [
            "Digite uma sequencia de numeros: 5 6 8 7 8 8 7 5 4\n",
            "[5, 6, 8, 7, 8, 8, 7, 5, 4]\n",
            "{4, 5, 6, 7, 8}\n",
            "[4, 5, 6, 7, 8]\n"
          ]
        }
      ]
    },
    {
      "cell_type": "markdown",
      "source": [
        ". Leia um número decimal e mostre-o convertido para inteiro e também para string."
      ],
      "metadata": {
        "id": "XU7nT6BTViLd"
      }
    },
    {
      "cell_type": "code",
      "source": [
        "dec = float(input(\"Digite um numero decimal: \"))\n",
        "\n",
        "print(f\" {int(dec)} \\n'{str(dec)}'\")"
      ],
      "metadata": {
        "colab": {
          "base_uri": "https://localhost:8080/"
        },
        "id": "Xk3ms-RGVmD1",
        "outputId": "d88d8c6d-3a8c-4ec3-bfd1-fd438c28cb55"
      },
      "execution_count": null,
      "outputs": [
        {
          "output_type": "stream",
          "name": "stdout",
          "text": [
            "Digite um numero decimal: 4.5\n",
            " 4 \n",
            "'4.5'\n"
          ]
        }
      ]
    }
  ]
}